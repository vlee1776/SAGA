{
 "cells": [
  {
   "cell_type": "markdown",
   "metadata": {},
   "source": [
    "# 1. Binary Classification"
   ]
  },
  {
   "cell_type": "markdown",
   "metadata": {},
   "source": [
    "## Logistic Loss Objective Value\n",
    "\n",
    "Objective Function:\n",
    "$ q (w; x, y) = \\log \\Big( 1 + \\exp \\big( - y_i x_i^T w \\big) \\Big)$ \n",
    "\n",
    "l2 regularizer addition:\n",
    "$\\frac{\\lambda}{2} \\| w \\|_2^2 $.\n",
    "\n",
    "l1 regularizer addition: \n",
    "$\\lambda| w \\|^1 $"
   ]
  },
  {
   "cell_type": "code",
   "execution_count": 5,
   "metadata": {},
   "outputs": [],
   "source": [
    "import numpy\n",
    "\n",
    "# y: scalar \n",
    "# x: 1 by d vector \n",
    "# w: d by 1 vector\n",
    "# lam: scalar \n",
    "# l1 and l2: boolean\n",
    "def logistic_loss(y,x,w,l1=False,l2=False,lam=0):\n",
    "    exponent = float(numpy.exp(-y * numpy.dot(x,w))) # scalar\n",
    "    objective = numpy.log(1 + exponent) \n",
    "    if l2:\n",
    "        objective += lam/2 * numpy.sum(numpy.multiply(w,w))\n",
    "    if l1:\n",
    "        objective += numpy.sum(numpy.abs(w)) \n",
    "    return objective"
   ]
  },
  {
   "cell_type": "code",
   "execution_count": 13,
   "metadata": {},
   "outputs": [],
   "source": [
    "# gradient of logisitic loss\n",
    "# y: scalar \n",
    "# x: 1 by d vector \n",
    "# w: d by 1 vector\n",
    "# lam: scalar \n",
    "# l1 and l2: boolean\n",
    "def logistic_gradient(y,x,w,l1=False,l2=False, lam=0):\n",
    "    d, _ = w.shape\n",
    "    exponent = float(numpy.exp(y * numpy.dot(x,w))) # scalar\n",
    "    derivative = (-y * x) / (1 + exponent) \n",
    "    derivative = derivative.reshape((d,1))# d by 1\n",
    "    if l2:\n",
    "        derivative += lam * w\n",
    "    if l1:\n",
    "        derivative += numpy.multiply(numpy.sign(w),w)\n",
    "    return derivative"
   ]
  },
  {
   "cell_type": "markdown",
   "metadata": {},
   "source": [
    "# 2. Regression"
   ]
  },
  {
   "cell_type": "markdown",
   "metadata": {},
   "source": [
    "## Linear Regression"
   ]
  },
  {
   "cell_type": "markdown",
   "metadata": {},
   "source": [
    "TODO: write equations"
   ]
  },
  {
   "cell_type": "code",
   "execution_count": 7,
   "metadata": {},
   "outputs": [],
   "source": [
    "# y: scalar \n",
    "# x: 1 by d vector \n",
    "# w: d by 1 vector\n",
    "# lam: scalar \n",
    "# l1 and l2: boolean\n",
    "def linear_loss(y,x,w,l2=False,l1=False,lam=0):\n",
    "    loss = numpy.dot(x,w) - y\n",
    "    loss = numpy.multiply(loss,loss)\n",
    "    if l2:\n",
    "        loss += lam * numpy.multiply(w,w)\n",
    "    if l1:\n",
    "        loss += lam * numpy.sum(numpy.abs(w))\n",
    "    return loss"
   ]
  },
  {
   "cell_type": "code",
   "execution_count": 8,
   "metadata": {},
   "outputs": [],
   "source": [
    "# y: scalar \n",
    "# x: 1 by d vector \n",
    "# w: d by 1 vector\n",
    "# lam: scalar \n",
    "# l1 and l2: boolean\n",
    "def linear_gradient(y,x,w,l2=False,l1=False,lam=0):\n",
    "    d, _ = w.shape\n",
    "    scalar = numpy.dot(w,x) - y\n",
    "    vector = scalar * x \n",
    "    vector.reshape((d,1))\n",
    "    if l2:\n",
    "        vector += lam * w\n",
    "    if l1:\n",
    "        vector += numpy.multiply(numpy.sign(w),w)\n",
    "    return vector"
   ]
  },
  {
   "cell_type": "markdown",
   "metadata": {},
   "source": [
    "## 3. SAGA Algorithm"
   ]
  },
  {
   "cell_type": "code",
   "execution_count": 20,
   "metadata": {},
   "outputs": [],
   "source": [
    "# X: training set, n by d \n",
    "# y: training labels, n by 1 \n",
    "# step_size, can't go wrong with 1/3L\n",
    "# lam: scalar\n",
    "# max_epochs = scalar\n",
    "# proximal: not always used default should be lambda x\n",
    "# obj_func: R^d -> R^1\n",
    "# grad_func: R^d -> R^d\n",
    "# l1 and l2 = Booleans\n",
    "def saga(X,y,step_size,max_epochs,proximal,obj_func,grad_func,l1=False,l2=False,lam=0):\n",
    "    # average obj values per epoch\n",
    "    obj_vals = []\n",
    "    n, d = X.shape  \n",
    "    w = numpy.zeros((d,1)) # d by 1 weight vector\n",
    "    # initialize table with derivative w/weight 0\n",
    "    derivatives = numpy.zeros((n,d))\n",
    "    for i in range(d):\n",
    "        derivatives[i,:] = grad_func(y[i],X[i,:],w,l1,l2,lam).reshape(9)\n",
    "        \n",
    "    for epoch in range(max_epochs):\n",
    "        # shuffle data points for an epoch\n",
    "        permutation = numpy.random.permutation(n)\n",
    "        X_shuffled = X[permutation,:]\n",
    "        y_shuffled = y[permutation,:]\n",
    "        obj_epoch = 0\n",
    "        for i in range(n):\n",
    "            # target data point and label\n",
    "            xi = X_shuffled[i,:]\n",
    "            yi = y_shuffled[i]\n",
    "\n",
    "            updated_deriv = grad_func(yi,xi,w,l1=l1,l2=l2,lam=lam) # d by 1\n",
    "            previous_deriv = derivatives[permutation[i],:].reshape((d,1)) # d by 1\n",
    "            derivatives[permutation[i],:] = updated_deriv.reshape(d)\n",
    "            table_avg = numpy.mean(derivatives,axis=0).reshape((d,1))\n",
    "            update = updated_deriv - previous_deriv + table_avg\n",
    "            w = w - (step_size * update)\n",
    "            # apply proximal operator\n",
    "            w = proximal(w)\n",
    "            obj_iter = obj_func(y_shuffled[i],X_shuffled[i,:],w,l1=l1,l2=l2,lam=lam)\n",
    "            obj_epoch += obj_iter\n",
    "\n",
    "        obj_epoch /= n\n",
    "        obj_vals.append(obj_epoch)\n",
    "        print(\"Obj val at epoch \" + str(epoch) + ' is ' + str(obj_epoch))\n",
    "    return w,obj_vals"
   ]
  },
  {
   "cell_type": "markdown",
   "metadata": {},
   "source": [
    "# 4. Import Datasets"
   ]
  },
  {
   "cell_type": "markdown",
   "metadata": {},
   "source": [
    "## 4.1 Mnist \n",
    "\n",
    "Data from http://yann.lecun.com/exdb/mnist/"
   ]
  },
  {
   "cell_type": "markdown",
   "metadata": {},
   "source": [
    "### 4.1.1 Read files"
   ]
  },
  {
   "cell_type": "code",
   "execution_count": 3,
   "metadata": {},
   "outputs": [],
   "source": [
    "#https://gist.github.com/tylerneylon/ce60e8a06e7506ac45788443f7269e40\n",
    "import struct\n",
    "\n",
    "def read_idx(filename):\n",
    "    with open(filename, 'rb') as f:\n",
    "        zero, data_type, dims = struct.unpack('>HBB', f.read(4))\n",
    "        shape = tuple(struct.unpack('>I', f.read(4))[0] for d in range(dims))\n",
    "        return numpy.frombuffer(f.read(), dtype=np.uint8).reshape(shape)"
   ]
  },
  {
   "cell_type": "code",
   "execution_count": 16,
   "metadata": {},
   "outputs": [
    {
     "data": {
      "image/png": "[encoded data removed]",
      "text/plain": [
       "<Figure size 432x288 with 1 Axes>"
      ]
     },
     "metadata": {
      "needs_background": "light"
     },
     "output_type": "display_data"
    },
    {
     "name": "stdout",
     "output_type": "stream",
     "text": [
      "The testing label is 5\n"
     ]
    }
   ],
   "source": [
    "import matplotlib.pyplot as plt \n",
    "\n",
    "X_test = read_idx(\"t10k-images-idx3-ubyte\")\n",
    "y_test = read_idx(\"t10k-labels-idx1-ubyte\")\n",
    "\n",
    "X_train = read_idx(\"train-images-idx3-ubyte\")\n",
    "y_train = read_idx(\"train-labels-idx1-ubyte\")\n",
    "\n",
    "\n",
    "plt.imshow(X_train[0,:,:],cmap='gray')\n",
    "plt.show()\n",
    "print('The testing label is ' + str(y_train[0]))"
   ]
  },
  {
   "cell_type": "markdown",
   "metadata": {},
   "source": [
    "### 4.1.2 Process Labels \n",
    "\n",
    "As explained in http://proceedings.mlr.press/v32/defazio14.pdf the digits 0-4 are class 1 and 5-9 class 2"
   ]
  },
  {
   "cell_type": "code",
   "execution_count": 17,
   "metadata": {},
   "outputs": [],
   "source": [
    "y_train = list(map(lambda x:0 if x < 5 else 1,y_train))\n",
    "\n",
    "y_test = list(map(lambda x:0 if x <5 else 1, y_test))"
   ]
  },
  {
   "cell_type": "markdown",
   "metadata": {},
   "source": [
    "### 4.1.3 Vectorize images and add a 1 column to simulate the intercept"
   ]
  },
  {
   "cell_type": "code",
   "execution_count": null,
   "metadata": {},
   "outputs": [],
   "source": [
    "\n",
    "X_train = numpy.concatenate((X_train, numpy.ones((n_train, 1))), axis=1)"
   ]
  },
  {
   "cell_type": "code",
   "execution_count": 19,
   "metadata": {},
   "outputs": [
    {
     "ename": "ValueError",
     "evalue": "operands could not be broadcast together with shapes (60000,28,28) (28,28,60000) ",
     "output_type": "error",
     "traceback": [
      "\u001b[0;31m---------------------------------------------------------------------------\u001b[0m",
      "\u001b[0;31mValueError\u001b[0m                                Traceback (most recent call last)",
      "\u001b[0;32m<ipython-input-19-0c9ce7273154>\u001b[0m in \u001b[0;36m<module>\u001b[0;34m\u001b[0m\n\u001b[1;32m      1\u001b[0m \u001b[0mproximal\u001b[0m \u001b[0;34m=\u001b[0m \u001b[0;32mlambda\u001b[0m \u001b[0mx\u001b[0m\u001b[0;34m:\u001b[0m \u001b[0mx\u001b[0m\u001b[0;34m\u001b[0m\u001b[0;34m\u001b[0m\u001b[0m\n\u001b[0;32m----> 2\u001b[0;31m \u001b[0m_\u001b[0m\u001b[0;34m,\u001b[0m\u001b[0meigs\u001b[0m\u001b[0;34m,\u001b[0m\u001b[0m_\u001b[0m \u001b[0;34m=\u001b[0m \u001b[0mnumpy\u001b[0m\u001b[0;34m.\u001b[0m\u001b[0mlinalg\u001b[0m\u001b[0;34m.\u001b[0m\u001b[0msvd\u001b[0m\u001b[0;34m(\u001b[0m\u001b[0mX_train\u001b[0m \u001b[0;34m*\u001b[0m \u001b[0mX_train\u001b[0m\u001b[0;34m.\u001b[0m\u001b[0mT\u001b[0m\u001b[0;34m)\u001b[0m\u001b[0;34m\u001b[0m\u001b[0;34m\u001b[0m\u001b[0m\n\u001b[0m\u001b[1;32m      3\u001b[0m \u001b[0mn\u001b[0m\u001b[0;34m,\u001b[0m\u001b[0md\u001b[0m \u001b[0;34m=\u001b[0m \u001b[0mnumpy\u001b[0m\u001b[0;34m.\u001b[0m\u001b[0mshape\u001b[0m\u001b[0;34m(\u001b[0m\u001b[0mX_train\u001b[0m\u001b[0;34m)\u001b[0m\u001b[0;34m\u001b[0m\u001b[0;34m\u001b[0m\u001b[0m\n\u001b[1;32m      4\u001b[0m \u001b[0malpha\u001b[0m \u001b[0;34m=\u001b[0m \u001b[0;36m1E-6\u001b[0m\u001b[0;34m\u001b[0m\u001b[0;34m\u001b[0m\u001b[0m\n\u001b[1;32m      5\u001b[0m \u001b[0mstep_size\u001b[0m \u001b[0;34m=\u001b[0m \u001b[0;36m1\u001b[0m \u001b[0;34m/\u001b[0m \u001b[0;34m(\u001b[0m\u001b[0mn\u001b[0m \u001b[0;34m*\u001b[0m \u001b[0malpha\u001b[0m \u001b[0;34m+\u001b[0m \u001b[0;36m1\u001b[0m\u001b[0;34m/\u001b[0m\u001b[0;36m4\u001b[0m \u001b[0;34m*\u001b[0m \u001b[0meigs\u001b[0m\u001b[0;34m[\u001b[0m\u001b[0;36m0\u001b[0m\u001b[0;34m]\u001b[0m\u001b[0;34m)\u001b[0m\u001b[0;34m\u001b[0m\u001b[0;34m\u001b[0m\u001b[0m\n",
      "\u001b[0;31mValueError\u001b[0m: operands could not be broadcast together with shapes (60000,28,28) (28,28,60000) "
     ]
    }
   ],
   "source": [
    "proximal = lambda x: x\n",
    "_,eigs,_ = numpy.linalg.svd(X_train * X_train.T)\n",
    "n,d = numpy.shape(X_train)\n",
    "alpha = 1E-6\n",
    "step_size = 1 / (n * alpha + 1/4 * eigs[0]) \n",
    "saga(X_train,y_train,step_size,100,proximal,logistic_loss,logistic_gradient,l2=True,lam=alpha)"
   ]
  },
  {
   "cell_type": "code",
   "execution_count": null,
   "metadata": {},
   "outputs": [],
   "source": []
  }
 ],
 "metadata": {
  "kernelspec": {
   "display_name": "Python 3",
   "language": "python",
   "name": "python3"
  },
  "language_info": {
   "codemirror_mode": {
    "name": "ipython",
    "version": 3
   },
   "file_extension": ".py",
   "mimetype": "text/x-python",
   "name": "python",
   "nbconvert_exporter": "python",
   "pygments_lexer": "ipython3",
   "version": "3.7.4"
  }
 },
 "nbformat": 4,
 "nbformat_minor": 2
}
