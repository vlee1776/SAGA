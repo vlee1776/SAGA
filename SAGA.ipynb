{
 "cells": [
  {
   "cell_type": "markdown",
   "metadata": {},
   "source": [
    "# 1. Binary Classification"
   ]
  },
  {
   "cell_type": "markdown",
   "metadata": {},
   "source": [
    "## Logistic Loss Objective Value\n",
    "\n",
    "Objective Function:\n",
    "$ q (w; x, y) = \\log \\Big( 1 + \\exp \\big( - y_i x_i^T w \\big) \\Big)$ \n",
    "\n",
    "l2 regularizer addition:\n",
    "$\\frac{\\lambda}{2} \\| w \\|_2^2 $.\n",
    "\n",
    "l1 regularizer addition: \n",
    "$\\lambda| w \\|^1 $"
   ]
  },
  {
   "cell_type": "code",
   "execution_count": 1,
   "metadata": {},
   "outputs": [],
   "source": [
    "import numpy\n",
    "\n",
    "# y: scalar \n",
    "# x: 1 by d vector \n",
    "# w: d by 1 vector\n",
    "# lam: scalar \n",
    "# l1 and l2: boolean\n",
    "def logistic_loss(y,x,w,l1=False,l2=False,lam=0):\n",
    "    exponent = float(numpy.exp(-y * numpy.dot(x,w))) # scalar\n",
    "    objective = numpy.log(1 + exponent) \n",
    "    if l2:\n",
    "        objective += lam/2 * numpy.sum(numpy.multiply(w,w))\n",
    "    if l1:\n",
    "        objective += numpy.sum(numpy.abs(w)) \n",
    "    return objective"
   ]
  },
  {
   "cell_type": "code",
   "execution_count": 28,
   "metadata": {},
   "outputs": [],
   "source": [
    "# gradient of logisitic loss\n",
    "# y: scalar \n",
    "# x: 1 by d vector \n",
    "# w: d by 1 vector\n",
    "# lam: scalar \n",
    "# l1 and l2: boolean\n",
    "def logistic_gradient(y,x,w,l1=False,l2=False, lam=0):\n",
    "    d, _ = w.shape\n",
    "    exponent = float(numpy.exp(y * numpy.dot(x,w))) # scalar\n",
    "    derivative = (-y * x) / (1 + exponent) \n",
    "    derivative = derivative.reshape((d,1))# d by 1\n",
    "    if l2:\n",
    "        derivative += lam * w\n",
    "    if l1:\n",
    "        derivative += numpy.multiply(numpy.sign(w),w)\n",
    "    return derivative"
   ]
  },
  {
   "cell_type": "markdown",
   "metadata": {},
   "source": [
    "# 2. Regression"
   ]
  },
  {
   "cell_type": "markdown",
   "metadata": {},
   "source": [
    "## Linear Regression"
   ]
  },
  {
   "cell_type": "markdown",
   "metadata": {},
   "source": [
    "Objective Function:\n",
    "$ q (w; x, y) = \\log \\Big( 1 + \\exp \\big( - y_i x_i^T w \\big) \\Big)$ \n",
    "\n",
    "l2 regularizer addition:\n",
    "$\\frac{\\lambda}{2} \\| w \\|_2^2 $.\n",
    "\n",
    "l1 regularizer addition: \n",
    "$\\lambda| w \\|^1 $"
   ]
  },
  {
   "cell_type": "code",
   "execution_count": 38,
   "metadata": {},
   "outputs": [],
   "source": [
    "# y: scalar \n",
    "# x: 1 by d vector \n",
    "# w: d by 1 vector\n",
    "# lam: scalar \n",
    "# l1 and l2: boolean\n",
    "def linear_loss(y,x,w,l1=False,l2=False,lam=0):\n",
    "    loss = numpy.dot(x,w) - y\n",
    "    loss = numpy.sum(numpy.multiply(loss,loss))\n",
    "    if l2:\n",
    "        loss += lam * numpy.sum(numpy.multiply(w,w))\n",
    "    if l1:\n",
    "        loss += lam * numpy.sum(numpy.abs(w))\n",
    "    return loss"
   ]
  },
  {
   "cell_type": "code",
   "execution_count": 36,
   "metadata": {},
   "outputs": [],
   "source": [
    "# y: scalar \n",
    "# x: 1 by d vector \n",
    "# w: d by 1 vector\n",
    "# lam: scalar \n",
    "# l1 and l2: boolean\n",
    "def linear_gradient(y,x,w,l1=False,l2=False,lam=0):\n",
    "    d, _ = w.shape\n",
    "    scalar = numpy.dot(x,w) - y\n",
    "    vector = scalar * x \n",
    "    vector = vector.reshape((d,1))\n",
    "    if l2:\n",
    "        vector += lam * w\n",
    "    if l1:\n",
    "        vector += numpy.multiply(numpy.sign(w),w)\n",
    "    return vector"
   ]
  },
  {
   "cell_type": "markdown",
   "metadata": {},
   "source": [
    "## 3. SAGA Algorithm"
   ]
  },
  {
   "cell_type": "code",
   "execution_count": 5,
   "metadata": {},
   "outputs": [],
   "source": [
    "# X: training set, n by d \n",
    "# y: training labels, n by 1 \n",
    "# step_size, can't go wrong with 1/3L\n",
    "# lam: scalar\n",
    "# max_epochs = scalar\n",
    "# proximal: not always used default should be lambda x\n",
    "# obj_func: R^d -> R^1\n",
    "# grad_func: R^d -> R^d\n",
    "# l1 and l2 = Booleans\n",
    "def saga(X,y,step_size,max_epochs,proximal,obj_func,grad_func,l1=False,l2=False,lam=0):\n",
    "    # average obj values per epoch\n",
    "    obj_vals = []\n",
    "    n, d = X.shape  \n",
    "    w = numpy.zeros((d,1)) # d by 1 weight vector\n",
    "    # initialize table with derivative w/weight 0\n",
    "    derivatives = numpy.zeros((n,d))\n",
    "    for i in range(n):\n",
    "        derivatives[i,:] = grad_func(y[i],X[i,:],w,l1,l2,lam).reshape(d)\n",
    "        \n",
    "    for epoch in range(max_epochs):\n",
    "        # shuffle data points for an epoch\n",
    "        permutation = numpy.random.permutation(n)\n",
    "        X_shuffled = X[permutation,:]\n",
    "        y_shuffled = y[permutation,:]\n",
    "        obj_epoch = 0\n",
    "        for i in range(n):\n",
    "            # target data point and label\n",
    "            xi = X_shuffled[i,:]\n",
    "            yi = y_shuffled[i]\n",
    "\n",
    "            updated_deriv = grad_func(yi,xi,w,l1=l1,l2=l2,lam=lam) # d by 1\n",
    "            previous_deriv = derivatives[permutation[i],:].reshape((d,1)) # d by 1\n",
    "            derivatives[permutation[i],:] = updated_deriv.reshape(d)\n",
    "            table_avg = numpy.mean(derivatives,axis=0).reshape((d,1))\n",
    "            update = updated_deriv - previous_deriv + table_avg\n",
    "            w = w - (step_size * update)\n",
    "            # apply proximal operator\n",
    "            w = proximal(w)\n",
    "            obj_iter = obj_func(y_shuffled[i],X_shuffled[i,:],w,l1=l1,l2=l2,lam=lam)\n",
    "            obj_epoch += obj_iter\n",
    "\n",
    "        obj_epoch /= n\n",
    "        obj_vals.append(obj_epoch)\n",
    "        print('Objective value at epoch '+ str(epoch) + ' is '+ str(obj_epoch))\n",
    "    return w, obj_vals"
   ]
  },
  {
   "cell_type": "markdown",
   "metadata": {},
   "source": [
    "# 4. Import Datasets"
   ]
  },
  {
   "cell_type": "markdown",
   "metadata": {},
   "source": [
    "## *** Sanity Check"
   ]
  },
  {
   "cell_type": "code",
   "execution_count": 42,
   "metadata": {},
   "outputs": [
    {
     "name": "stdout",
     "output_type": "stream",
     "text": [
      "Shape of x: (768, 8)\n",
      "Shape of y: (768,)\n",
      "Shape of x_train: (640, 8)\n",
      "Shape of x_test: (128, 8)\n",
      "Shape of y_train: (640, 1)\n",
      "Shape of y_test: (128, 1)\n",
      "test mean = \n",
      "[[ 0.10421113  0.06910884 -0.18554799  0.12258025  0.21013553 -0.19029435\n",
      "  -0.07554382 -0.1076603 ]]\n",
      "test std = \n",
      "[[1.08966105 0.89390061 1.3325008  0.90801007 1.23448541 1.13490246\n",
      "  0.95649294 0.90967362]]\n",
      "Shape of x_train: (640, 9)\n",
      "Shape of x_test: (128, 9)\n"
     ]
    }
   ],
   "source": [
    "from sklearn import datasets\n",
    "import numpy\n",
    "\n",
    "x_sparse, y = datasets.load_svmlight_file('diabetes')\n",
    "x = x_sparse.todense()\n",
    "\n",
    "print('Shape of x: ' + str(x.shape))\n",
    "print('Shape of y: ' + str(y.shape))\n",
    "\n",
    "\n",
    "# partition the data to training and test sets\n",
    "n = x.shape[0]\n",
    "n_train = 640\n",
    "n_test = n - n_train\n",
    "\n",
    "rand_indices = numpy.random.permutation(n)\n",
    "train_indices = rand_indices[0:n_train]\n",
    "test_indices = rand_indices[n_train:n]\n",
    "\n",
    "x_train = x[train_indices, :]\n",
    "x_test = x[test_indices, :]\n",
    "y_train = y[train_indices].reshape(n_train, 1)\n",
    "y_test = y[test_indices].reshape(n_test, 1)\n",
    "\n",
    "print('Shape of x_train: ' + str(x_train.shape))\n",
    "print('Shape of x_test: ' + str(x_test.shape))\n",
    "print('Shape of y_train: ' + str(y_train.shape))\n",
    "print('Shape of y_test: ' + str(y_test.shape))\n",
    "\n",
    "\n",
    "# Standardization\n",
    "import numpy\n",
    "\n",
    "# calculate mu and sig using the training set\n",
    "d = x_train.shape[1]\n",
    "mu = numpy.mean(x_train, axis=0).reshape(1, d)\n",
    "sig = numpy.std(x_train, axis=0).reshape(1, d)\n",
    "\n",
    "# transform the training features\n",
    "x_train = (x_train - mu) / (sig + 1E-6)\n",
    "\n",
    "# transform the test features\n",
    "x_test = (x_test - mu) / (sig + 1E-6)\n",
    "\n",
    "print('test mean = ')\n",
    "print(numpy.mean(x_test, axis=0))\n",
    "\n",
    "print('test std = ')\n",
    "print(numpy.std(x_test, axis=0))\n",
    "\n",
    "\n",
    "n_train, d = x_train.shape\n",
    "x_train = numpy.concatenate((x_train, numpy.ones((n_train, 1))), axis=1)\n",
    "\n",
    "n_test, d = x_test.shape\n",
    "x_test = numpy.concatenate((x_test, numpy.ones((n_test, 1))), axis=1)\n",
    "\n",
    "print('Shape of x_train: ' + str(x_train.shape))\n",
    "print('Shape of x_test: ' + str(x_test.shape))"
   ]
  },
  {
   "cell_type": "code",
   "execution_count": 43,
   "metadata": {},
   "outputs": [
    {
     "name": "stdout",
     "output_type": "stream",
     "text": [
      "Objective value at epoch 0 is 0.5271832747101184\n",
      "Objective value at epoch 1 is 0.48420746073632526\n",
      "Objective value at epoch 2 is 0.47584621897387835\n",
      "Objective value at epoch 3 is 0.4729779538911396\n",
      "Objective value at epoch 4 is 0.47177987867784266\n",
      "Objective value at epoch 5 is 0.47200486866098335\n",
      "Objective value at epoch 6 is 0.47179074366958834\n",
      "Objective value at epoch 7 is 0.4717422561982728\n",
      "Objective value at epoch 8 is 0.47180327803652916\n",
      "Objective value at epoch 9 is 0.4718146894650788\n",
      "Objective value at epoch 10 is 0.4718086867915473\n",
      "Objective value at epoch 11 is 0.47181542444270413\n",
      "Objective value at epoch 12 is 0.47181802673432627\n",
      "Objective value at epoch 13 is 0.47181491942305576\n",
      "Objective value at epoch 14 is 0.4718138845854788\n",
      "Objective value at epoch 15 is 0.4718160959490511\n",
      "Objective value at epoch 16 is 0.47181543884784316\n",
      "Objective value at epoch 17 is 0.4718152210807105\n",
      "Objective value at epoch 18 is 0.4718152947844213\n",
      "Objective value at epoch 19 is 0.47181527144842716\n",
      "Objective value at epoch 20 is 0.4718152743941763\n",
      "Objective value at epoch 21 is 0.47181528368923253\n",
      "Objective value at epoch 22 is 0.47181528914090914\n",
      "Objective value at epoch 23 is 0.47181529408265765\n",
      "Objective value at epoch 24 is 0.4718152952392791\n",
      "Objective value at epoch 25 is 0.47181529578320597\n",
      "Objective value at epoch 26 is 0.47181529695114016\n",
      "Objective value at epoch 27 is 0.47181529541122974\n",
      "Objective value at epoch 28 is 0.47181529554773427\n",
      "Objective value at epoch 29 is 0.4718152953493919\n",
      "Objective value at epoch 30 is 0.47181529542133316\n",
      "Objective value at epoch 31 is 0.47181529528722166\n",
      "Objective value at epoch 32 is 0.471815295248752\n",
      "Objective value at epoch 33 is 0.47181529523936055\n",
      "Objective value at epoch 34 is 0.47181529524118027\n",
      "Objective value at epoch 35 is 0.471815295244704\n",
      "Objective value at epoch 36 is 0.4718152952393284\n",
      "Objective value at epoch 37 is 0.47181529524561927\n",
      "Objective value at epoch 38 is 0.4718152952443043\n",
      "Objective value at epoch 39 is 0.4718152952457387\n",
      "Objective value at epoch 40 is 0.47181529524599214\n",
      "Objective value at epoch 41 is 0.47181529524626187\n",
      "Objective value at epoch 42 is 0.47181529524605326\n",
      "Objective value at epoch 43 is 0.4718152952460035\n",
      "Objective value at epoch 44 is 0.4718152952459261\n",
      "Objective value at epoch 45 is 0.47181529524591187\n",
      "Objective value at epoch 46 is 0.4718152952459233\n",
      "Objective value at epoch 47 is 0.4718152952459199\n",
      "Objective value at epoch 48 is 0.4718152952459215\n",
      "Objective value at epoch 49 is 0.4718152952459243\n",
      "Objective value at epoch 50 is 0.47181529524592447\n",
      "Objective value at epoch 51 is 0.4718152952459252\n",
      "Objective value at epoch 52 is 0.47181529524592697\n",
      "Objective value at epoch 53 is 0.4718152952459257\n",
      "Objective value at epoch 54 is 0.47181529524592464\n",
      "Objective value at epoch 55 is 0.4718152952459259\n",
      "Objective value at epoch 56 is 0.4718152952459261\n",
      "Objective value at epoch 57 is 0.4718152952459251\n",
      "Objective value at epoch 58 is 0.4718152952459252\n",
      "Objective value at epoch 59 is 0.47181529524592597\n",
      "Objective value at epoch 60 is 0.4718152952459255\n",
      "Objective value at epoch 61 is 0.4718152952459248\n",
      "Objective value at epoch 62 is 0.4718152952459251\n",
      "Objective value at epoch 63 is 0.471815295245925\n",
      "Objective value at epoch 64 is 0.4718152952459257\n",
      "Objective value at epoch 65 is 0.4718152952459252\n",
      "Objective value at epoch 66 is 0.4718152952459252\n",
      "Objective value at epoch 67 is 0.47181529524592525\n",
      "Objective value at epoch 68 is 0.4718152952459249\n",
      "Objective value at epoch 69 is 0.4718152952459255\n",
      "Objective value at epoch 70 is 0.4718152952459258\n",
      "Objective value at epoch 71 is 0.4718152952459255\n",
      "Objective value at epoch 72 is 0.4718152952459252\n",
      "Objective value at epoch 73 is 0.47181529524592475\n",
      "Objective value at epoch 74 is 0.47181529524592525\n",
      "Objective value at epoch 75 is 0.4718152952459258\n",
      "Objective value at epoch 76 is 0.47181529524592597\n",
      "Objective value at epoch 77 is 0.4718152952459255\n",
      "Objective value at epoch 78 is 0.4718152952459251\n",
      "Objective value at epoch 79 is 0.47181529524592525\n",
      "Objective value at epoch 80 is 0.4718152952459249\n",
      "Objective value at epoch 81 is 0.4718152952459252\n",
      "Objective value at epoch 82 is 0.4718152952459255\n",
      "Objective value at epoch 83 is 0.4718152952459251\n",
      "Objective value at epoch 84 is 0.4718152952459252\n",
      "Objective value at epoch 85 is 0.47181529524592547\n",
      "Objective value at epoch 86 is 0.4718152952459249\n",
      "Objective value at epoch 87 is 0.4718152952459251\n",
      "Objective value at epoch 88 is 0.4718152952459255\n",
      "Objective value at epoch 89 is 0.4718152952459251\n",
      "Objective value at epoch 90 is 0.4718152952459255\n",
      "Objective value at epoch 91 is 0.47181529524592536\n",
      "Objective value at epoch 92 is 0.4718152952459251\n",
      "Objective value at epoch 93 is 0.47181529524592525\n",
      "Objective value at epoch 94 is 0.4718152952459255\n",
      "Objective value at epoch 95 is 0.47181529524592536\n",
      "Objective value at epoch 96 is 0.47181529524592536\n",
      "Objective value at epoch 97 is 0.47181529524592475\n",
      "Objective value at epoch 98 is 0.47181529524592536\n",
      "Objective value at epoch 99 is 0.47181529524592464\n"
     ]
    }
   ],
   "source": [
    "proximal = lambda x: x\n",
    "_,eigs,_ = numpy.linalg.svd(numpy.dot(X_train,X_train.T))\n",
    "L = 1/4 * eigs[0]\n",
    "n,d = numpy.shape(X_train)\n",
    "alpha = 1E-6\n",
    "step_size = 1 / (n * alpha + L)\n",
    "w, obj_vals = saga(x_train,y_train,step_size,100,proximal,logistic_loss,logistic_gradient,l2=True,lam=alpha)"
   ]
  },
  {
   "cell_type": "code",
   "execution_count": 44,
   "metadata": {},
   "outputs": [
    {
     "data": {
      "image/png": "[encoded data removed]",
      "text/plain": [
       "<Figure size 432x288 with 1 Axes>"
      ]
     },
     "metadata": {
      "needs_background": "light"
     },
     "output_type": "display_data"
    }
   ],
   "source": [
    "import matplotlib.pyplot as plt\n",
    "\n",
    "epochs_gd = range(len(obj_vals))\n",
    "plt.plot(epochs_gd, obj_vals)\n",
    "plt.xlabel('Epochs', FontSize=20)\n",
    "plt.ylabel('Objective Value', FontSize=20)\n",
    "plt.show()"
   ]
  },
  {
   "cell_type": "markdown",
   "metadata": {},
   "source": [
    "## 4.1 Mnist \n",
    "\n",
    "Data from http://yann.lecun.com/exdb/mnist/"
   ]
  },
  {
   "cell_type": "markdown",
   "metadata": {},
   "source": [
    "### 4.1.1 Read files"
   ]
  },
  {
   "cell_type": "code",
   "execution_count": 29,
   "metadata": {},
   "outputs": [],
   "source": [
    "#https://gist.github.com/tylerneylon/ce60e8a06e7506ac45788443f7269e40\n",
    "import struct\n",
    "\n",
    "def read_idx(filename):\n",
    "    with open(filename, 'rb') as f:\n",
    "        zero, data_type, dims = struct.unpack('>HBB', f.read(4))\n",
    "        shape = tuple(struct.unpack('>I', f.read(4))[0] for d in range(dims))\n",
    "        array = numpy.frombuffer(f.read(), dtype=numpy.uint8).reshape(shape)\n",
    "        return array.copy()"
   ]
  },
  {
   "cell_type": "code",
   "execution_count": 30,
   "metadata": {
    "scrolled": true
   },
   "outputs": [
    {
     "data": {
      "image/png": "[encoded data removed]",
      "text/plain": [
       "<Figure size 432x288 with 1 Axes>"
      ]
     },
     "metadata": {
      "needs_background": "light"
     },
     "output_type": "display_data"
    },
    {
     "name": "stdout",
     "output_type": "stream",
     "text": [
      "The testing label is 5\n"
     ]
    }
   ],
   "source": [
    "import matplotlib.pyplot as plt \n",
    "\n",
    "X_test = read_idx(\"mnist/t10k-images-idx3-ubyte\")\n",
    "y_test = read_idx(\"mnist/t10k-labels-idx1-ubyte\")\n",
    "\n",
    "X_train = read_idx(\"mnist/train-images-idx3-ubyte\")\n",
    "y_train = read_idx(\"mnist/train-labels-idx1-ubyte\")\n",
    "\n",
    "\n",
    "plt.imshow(X_train[0,:,:],cmap='gray')\n",
    "plt.show()\n",
    "print('The testing label is ' + str(y_train[0]))"
   ]
  },
  {
   "cell_type": "markdown",
   "metadata": {},
   "source": [
    "### 4.1.2 Process Labels \n",
    "\n",
    "As explained in http://proceedings.mlr.press/v32/defazio14.pdf the digits 0-4 are class 1 and 5-9 class 2"
   ]
  },
  {
   "cell_type": "code",
   "execution_count": 31,
   "metadata": {},
   "outputs": [],
   "source": [
    "y_train = numpy.array(list(map(lambda x:-1 if x < 5 else 1,y_train)))\n",
    "y_test = numpy.array(list(map(lambda x:-1 if x <5 else 1, y_test)))"
   ]
  },
  {
   "cell_type": "markdown",
   "metadata": {},
   "source": [
    "### 4.1.3 Process Images\n",
    "\n",
    "Vectorize 28x28 images to 1 by 768 and normalize them"
   ]
  },
  {
   "cell_type": "code",
   "execution_count": 32,
   "metadata": {},
   "outputs": [],
   "source": [
    "X_train = X_train[:1000,:,:]\n",
    "y_train = y_train[:1000]\n",
    "train_n,d,_ = X_train.shape\n",
    "test_n,_,_ = X_test.shape\n",
    "\n",
    "X_train = X_train.reshape((train_n,d*d))\n",
    "X_test = X_test.reshape((test_n,d*d))\n",
    "\n",
    "\n",
    "y_train = y_train.reshape((train_n,1))\n",
    "y_test = y_test.reshape((test_n,1))\n",
    "\n",
    "# create new matrix with normalized rows\n",
    "def normalize(matrix):\n",
    "    ret = numpy.zeros(matrix.shape)\n",
    "    for i in range(len(matrix)):\n",
    "        vector = matrix[i]\n",
    "        divisor = numpy.linalg.norm(vector)\n",
    "        ret[i] = vector / divisor\n",
    "    return ret\n",
    "\n",
    "X_train = normalize(X_train)\n",
    "X_test = normalize(X_test)"
   ]
  },
  {
   "cell_type": "code",
   "execution_count": 33,
   "metadata": {
    "scrolled": true
   },
   "outputs": [
    {
     "name": "stdout",
     "output_type": "stream",
     "text": [
      "Objective value at epoch 0 is 0.6796231167945326\n",
      "Objective value at epoch 1 is 0.6539823248154246\n",
      "Objective value at epoch 2 is 0.6331316702834037\n",
      "Objective value at epoch 3 is 0.6149593078201263\n",
      "Objective value at epoch 4 is 0.5990876880779271\n",
      "Objective value at epoch 5 is 0.5851565057175113\n",
      "Objective value at epoch 6 is 0.573241920300928\n",
      "Objective value at epoch 7 is 0.5624369942420764\n",
      "Objective value at epoch 8 is 0.5530450430814641\n",
      "Objective value at epoch 9 is 0.5442768588527147\n",
      "Objective value at epoch 10 is 0.5362941244051875\n",
      "Objective value at epoch 11 is 0.5290433741175097\n",
      "Objective value at epoch 12 is 0.5223260747159906\n",
      "Objective value at epoch 13 is 0.5161119531062306\n",
      "Objective value at epoch 14 is 0.5105066886551374\n",
      "Objective value at epoch 15 is 0.5050645205029903\n",
      "Objective value at epoch 16 is 0.5000067907793382\n",
      "Objective value at epoch 17 is 0.49518037828468714\n",
      "Objective value at epoch 18 is 0.4908211119483429\n",
      "Objective value at epoch 19 is 0.48647422074256014\n",
      "Objective value at epoch 20 is 0.48254544123639215\n",
      "Objective value at epoch 21 is 0.4787856959059794\n",
      "Objective value at epoch 22 is 0.47510843030182\n",
      "Objective value at epoch 23 is 0.47150590610998294\n",
      "Objective value at epoch 24 is 0.46823341039553107\n",
      "Objective value at epoch 25 is 0.46512988251693377\n",
      "Objective value at epoch 26 is 0.46207473921090286\n",
      "Objective value at epoch 27 is 0.45920449941180885\n",
      "Objective value at epoch 28 is 0.456390557238638\n",
      "Objective value at epoch 29 is 0.4537271291302185\n",
      "Objective value at epoch 30 is 0.4511519910108506\n",
      "Objective value at epoch 31 is 0.4486543537485936\n",
      "Objective value at epoch 32 is 0.44619752951582664\n",
      "Objective value at epoch 33 is 0.44396435530228134\n",
      "Objective value at epoch 34 is 0.44172771531475735\n",
      "Objective value at epoch 35 is 0.4395868579125281\n",
      "Objective value at epoch 36 is 0.43749307091148987\n",
      "Objective value at epoch 37 is 0.4354818959444904\n",
      "Objective value at epoch 38 is 0.4335171446432903\n",
      "Objective value at epoch 39 is 0.4316474674965601\n",
      "Objective value at epoch 40 is 0.42983346983580345\n",
      "Objective value at epoch 41 is 0.42800708161834683\n",
      "Objective value at epoch 42 is 0.42631643255894347\n",
      "Objective value at epoch 43 is 0.4246547140718338\n",
      "Objective value at epoch 44 is 0.4230547950545398\n",
      "Objective value at epoch 45 is 0.42137934598986315\n",
      "Objective value at epoch 46 is 0.4198654565908407\n",
      "Objective value at epoch 47 is 0.41839779309650765\n",
      "Objective value at epoch 48 is 0.4168784406456154\n",
      "Objective value at epoch 49 is 0.41546624978709273\n",
      "Objective value at epoch 50 is 0.4141364898448227\n",
      "Objective value at epoch 51 is 0.41272213300053895\n",
      "Objective value at epoch 52 is 0.4114497120232042\n",
      "Objective value at epoch 53 is 0.4101803725081541\n",
      "Objective value at epoch 54 is 0.40893415389206184\n",
      "Objective value at epoch 55 is 0.4076849917934558\n",
      "Objective value at epoch 56 is 0.40647217694401777\n",
      "Objective value at epoch 57 is 0.4053197653158904\n",
      "Objective value at epoch 58 is 0.40413750135311516\n",
      "Objective value at epoch 59 is 0.4030540976288005\n",
      "Objective value at epoch 60 is 0.40195179715466706\n",
      "Objective value at epoch 61 is 0.400841271062332\n",
      "Objective value at epoch 62 is 0.39982746827633986\n",
      "Objective value at epoch 63 is 0.3987789087409084\n",
      "Objective value at epoch 64 is 0.3977626490603662\n",
      "Objective value at epoch 65 is 0.39680082085995616\n",
      "Objective value at epoch 66 is 0.39581713395809337\n",
      "Objective value at epoch 67 is 0.39486047884792846\n",
      "Objective value at epoch 68 is 0.3939179428333006\n",
      "Objective value at epoch 69 is 0.3930170308775496\n",
      "Objective value at epoch 70 is 0.39211881705945706\n",
      "Objective value at epoch 71 is 0.391231202703094\n",
      "Objective value at epoch 72 is 0.39038065728274224\n",
      "Objective value at epoch 73 is 0.38953889690962257\n",
      "Objective value at epoch 74 is 0.3886902730636311\n",
      "Objective value at epoch 75 is 0.3878575859732377\n",
      "Objective value at epoch 76 is 0.3870723058455312\n",
      "Objective value at epoch 77 is 0.3862675236681196\n",
      "Objective value at epoch 78 is 0.38547749486453564\n",
      "Objective value at epoch 79 is 0.38472826898004014\n",
      "Objective value at epoch 80 is 0.3839822630132635\n",
      "Objective value at epoch 81 is 0.3832420967978063\n",
      "Objective value at epoch 82 is 0.3824864069328845\n",
      "Objective value at epoch 83 is 0.38177021393662214\n",
      "Objective value at epoch 84 is 0.3810772154099876\n",
      "Objective value at epoch 85 is 0.3803829214848941\n",
      "Objective value at epoch 86 is 0.37969867704560145\n",
      "Objective value at epoch 87 is 0.3790198311872918\n",
      "Objective value at epoch 88 is 0.3783285583649118\n",
      "Objective value at epoch 89 is 0.3776704885479977\n",
      "Objective value at epoch 90 is 0.3769996611871788\n",
      "Objective value at epoch 91 is 0.37638626689057214\n",
      "Objective value at epoch 92 is 0.3757371636574235\n",
      "Objective value at epoch 93 is 0.3751322325987563\n",
      "Objective value at epoch 94 is 0.37450987895250326\n",
      "Objective value at epoch 95 is 0.3738889357166782\n",
      "Objective value at epoch 96 is 0.3733228041571534\n",
      "Objective value at epoch 97 is 0.3727465561234956\n",
      "Objective value at epoch 98 is 0.3721476857521001\n",
      "Objective value at epoch 99 is 0.3715447711844739\n"
     ]
    }
   ],
   "source": [
    "proximal = lambda x: x\n",
    "_,eigs,_ = numpy.linalg.svd(numpy.dot(X_train,X_train.T))\n",
    "L = 1/4 * eigs[0]\n",
    "n,d = numpy.shape(X_train)\n",
    "alpha = 1E-6\n",
    "step_size = 1 / (n * alpha + L)\n",
    "w, obj_vals = saga(X_train,y_train,step_size,100,proximal,logistic_loss,logistic_gradient,l2=True,lam=alpha)"
   ]
  },
  {
   "cell_type": "code",
   "execution_count": 11,
   "metadata": {},
   "outputs": [
    {
     "data": {
      "image/png": "[encoded data removed]",
      "text/plain": [
       "<Figure size 432x288 with 1 Axes>"
      ]
     },
     "metadata": {
      "needs_background": "light"
     },
     "output_type": "display_data"
    }
   ],
   "source": [
    "import matplotlib.pyplot as plt\n",
    "\n",
    "epochs_gd = range(len(obj_vals))\n",
    "plt.plot(epochs_gd, obj_vals)\n",
    "plt.xlabel('Epochs', FontSize=20)\n",
    "plt.ylabel('Objective Value', FontSize=20)\n",
    "plt.show()"
   ]
  },
  {
   "cell_type": "markdown",
   "metadata": {},
   "source": [
    "## 4.2 Million Song from UCI\n",
    "\n",
    "Regression from https://archive.ics.uci.edu/ml/datasets/yearpredictionmsd"
   ]
  },
  {
   "cell_type": "code",
   "execution_count": 6,
   "metadata": {},
   "outputs": [
    {
     "name": "stdout",
     "output_type": "stream",
     "text": [
      "(515345, 91)\n"
     ]
    }
   ],
   "source": [
    "from sklearn import datasets\n",
    "import numpy\n",
    "\n",
    "raw_data = open('YearPredictionMSD', 'rt')\n",
    "data = numpy.loadtxt(raw_data, delimiter=\",\")\n",
    "print(data.shape)"
   ]
  },
  {
   "cell_type": "code",
   "execution_count": 7,
   "metadata": {},
   "outputs": [],
   "source": [
    "def standardize(x_train,x_test):\n",
    "    # calculate mu and sig using the training set\n",
    "    d = x_train.shape[1]\n",
    "    mu = numpy.mean(x_train, axis=0).reshape(1, d)\n",
    "    sig = numpy.std(x_train, axis=0).reshape(1, d)\n",
    "\n",
    "    # transform the training features\n",
    "    x_train = (x_train - mu) / (sig + 1E-6)\n",
    "\n",
    "    # transform the test features\n",
    "    x_test = (x_test - mu) / (sig + 1E-6)"
   ]
  },
  {
   "cell_type": "code",
   "execution_count": 8,
   "metadata": {},
   "outputs": [
    {
     "name": "stdout",
     "output_type": "stream",
     "text": [
      "(515345, 1)\n",
      "(515345, 91)\n",
      "(100, 91)\n",
      "(100, 91)\n"
     ]
    }
   ],
   "source": [
    "labels = data[:,0]\n",
    "all_data = data[:,1:]\n",
    "\n",
    "n,d = all_data.shape\n",
    "\n",
    "all_data = numpy.concatenate((all_data, numpy.ones((n, 1))), axis=1)\n",
    "\n",
    "labels = labels.reshape((n,1))\n",
    "all_data = all_data.reshape((n,d+1))\n",
    "\n",
    "\n",
    "print(labels.shape)\n",
    "print(all_data.shape)\n",
    "\n",
    "X_train = all_data[:100,:]\n",
    "y_train = all_data[:100]\n",
    "X_test = all_data[100:,:]\n",
    "y_test = all_data[100:]\n",
    "print(X_train.shape)\n",
    "print(y_train.shape)\n",
    "\n",
    "standardize(X_train,X_test)"
   ]
  },
  {
   "cell_type": "code",
   "execution_count": 39,
   "metadata": {},
   "outputs": [
    {
     "name": "stdout",
     "output_type": "stream",
     "text": [
      "Objective value at epoch 0 is 0.9730502100401389\n",
      "Objective value at epoch 1 is 0.9220058374598464\n",
      "Objective value at epoch 2 is 0.879612697504288\n",
      "Objective value at epoch 3 is 0.8436382222465588\n",
      "Objective value at epoch 4 is 0.8130972855032906\n",
      "Objective value at epoch 5 is 0.7857621887067442\n",
      "Objective value at epoch 6 is 0.7623124447686848\n",
      "Objective value at epoch 7 is 0.7420221416834104\n",
      "Objective value at epoch 8 is 0.7233817561592767\n",
      "Objective value at epoch 9 is 0.7073646281566887\n",
      "Objective value at epoch 10 is 0.6929632042329144\n",
      "Objective value at epoch 11 is 0.6797086430570667\n",
      "Objective value at epoch 12 is 0.6675667183291315\n",
      "Objective value at epoch 13 is 0.6566075288552039\n",
      "Objective value at epoch 14 is 0.6464979344712074\n",
      "Objective value at epoch 15 is 0.6373574258917102\n",
      "Objective value at epoch 16 is 0.6286625352632034\n",
      "Objective value at epoch 17 is 0.6207424615878345\n",
      "Objective value at epoch 18 is 0.6131859022635844\n",
      "Objective value at epoch 19 is 0.6063036359935668\n",
      "Objective value at epoch 20 is 0.5996646261166511\n",
      "Objective value at epoch 21 is 0.5936223481592052\n",
      "Objective value at epoch 22 is 0.5878967996223711\n",
      "Objective value at epoch 23 is 0.5822518285597167\n",
      "Objective value at epoch 24 is 0.5771624779887626\n",
      "Objective value at epoch 25 is 0.5723488169496854\n",
      "Objective value at epoch 26 is 0.567730827744215\n",
      "Objective value at epoch 27 is 0.5633852761710951\n",
      "Objective value at epoch 28 is 0.5591167039610404\n",
      "Objective value at epoch 29 is 0.5552755000879362\n",
      "Objective value at epoch 30 is 0.5513673356713005\n",
      "Objective value at epoch 31 is 0.5477374345319093\n",
      "Objective value at epoch 32 is 0.5442267934274129\n",
      "Objective value at epoch 33 is 0.5408055924644642\n",
      "Objective value at epoch 34 is 0.5377357318768656\n",
      "Objective value at epoch 35 is 0.5348378361134803\n",
      "Objective value at epoch 36 is 0.5318412472197298\n",
      "Objective value at epoch 37 is 0.5289496265596766\n",
      "Objective value at epoch 38 is 0.5263688736108327\n",
      "Objective value at epoch 39 is 0.5236804307964936\n",
      "Objective value at epoch 40 is 0.5212489263531865\n",
      "Objective value at epoch 41 is 0.5188678254352668\n",
      "Objective value at epoch 42 is 0.5165204485509529\n",
      "Objective value at epoch 43 is 0.5143367791850585\n",
      "Objective value at epoch 44 is 0.5121479131302277\n",
      "Objective value at epoch 45 is 0.5101692425424612\n",
      "Objective value at epoch 46 is 0.5081076131464909\n",
      "Objective value at epoch 47 is 0.506293413187867\n",
      "Objective value at epoch 48 is 0.5043205924313527\n",
      "Objective value at epoch 49 is 0.5024074106953978\n",
      "Objective value at epoch 50 is 0.5006978726623534\n",
      "Objective value at epoch 51 is 0.4990879812142221\n",
      "Objective value at epoch 52 is 0.49733028812279245\n",
      "Objective value at epoch 53 is 0.4957750166413351\n",
      "Objective value at epoch 54 is 0.4941903485350425\n",
      "Objective value at epoch 55 is 0.49271776851686216\n",
      "Objective value at epoch 56 is 0.4912111626046621\n",
      "Objective value at epoch 57 is 0.4898029953397928\n",
      "Objective value at epoch 58 is 0.4883810253734197\n",
      "Objective value at epoch 59 is 0.4870942586776717\n",
      "Objective value at epoch 60 is 0.4857632753074795\n",
      "Objective value at epoch 61 is 0.4844749329715984\n",
      "Objective value at epoch 62 is 0.4832189377035586\n",
      "Objective value at epoch 63 is 0.4819908782381722\n",
      "Objective value at epoch 64 is 0.48078443521856185\n",
      "Objective value at epoch 65 is 0.47961392976518846\n",
      "Objective value at epoch 66 is 0.4784961553156638\n",
      "Objective value at epoch 67 is 0.47734429775628096\n",
      "Objective value at epoch 68 is 0.4762803267975853\n",
      "Objective value at epoch 69 is 0.47515779189778995\n",
      "Objective value at epoch 70 is 0.4741843614887908\n",
      "Objective value at epoch 71 is 0.47315231539818936\n",
      "Objective value at epoch 72 is 0.47214263180092014\n",
      "Objective value at epoch 73 is 0.47117632476876836\n",
      "Objective value at epoch 74 is 0.47019800668483985\n",
      "Objective value at epoch 75 is 0.4692713153656277\n",
      "Objective value at epoch 76 is 0.4683370022924543\n",
      "Objective value at epoch 77 is 0.4674438396441475\n",
      "Objective value at epoch 78 is 0.466525681197117\n",
      "Objective value at epoch 79 is 0.46566478050917226\n",
      "Objective value at epoch 80 is 0.46476285476470847\n",
      "Objective value at epoch 81 is 0.46390097251567386\n",
      "Objective value at epoch 82 is 0.4631328447093229\n",
      "Objective value at epoch 83 is 0.462300725442321\n",
      "Objective value at epoch 84 is 0.46152366766252384\n",
      "Objective value at epoch 85 is 0.4606808289124199\n",
      "Objective value at epoch 86 is 0.4599785788922946\n",
      "Objective value at epoch 87 is 0.4591609251690314\n",
      "Objective value at epoch 88 is 0.45841521791569945\n",
      "Objective value at epoch 89 is 0.45769452075966965\n",
      "Objective value at epoch 90 is 0.4569439156611644\n",
      "Objective value at epoch 91 is 0.4562154873751142\n",
      "Objective value at epoch 92 is 0.4554905955101149\n",
      "Objective value at epoch 93 is 0.45478245662071687\n",
      "Objective value at epoch 94 is 0.45409147217453794\n",
      "Objective value at epoch 95 is 0.45336992540502674\n",
      "Objective value at epoch 96 is 0.4527617720211003\n",
      "Objective value at epoch 97 is 0.45208459413332813\n",
      "Objective value at epoch 98 is 0.4514230776653045\n",
      "Objective value at epoch 99 is 0.4507432779869316\n",
      "[0.9730502100401389, 0.9220058374598464, 0.879612697504288, 0.8436382222465588, 0.8130972855032906, 0.7857621887067442, 0.7623124447686848, 0.7420221416834104, 0.7233817561592767, 0.7073646281566887, 0.6929632042329144, 0.6797086430570667, 0.6675667183291315, 0.6566075288552039, 0.6464979344712074, 0.6373574258917102, 0.6286625352632034, 0.6207424615878345, 0.6131859022635844, 0.6063036359935668, 0.5996646261166511, 0.5936223481592052, 0.5878967996223711, 0.5822518285597167, 0.5771624779887626, 0.5723488169496854, 0.567730827744215, 0.5633852761710951, 0.5591167039610404, 0.5552755000879362, 0.5513673356713005, 0.5477374345319093, 0.5442267934274129, 0.5408055924644642, 0.5377357318768656, 0.5348378361134803, 0.5318412472197298, 0.5289496265596766, 0.5263688736108327, 0.5236804307964936, 0.5212489263531865, 0.5188678254352668, 0.5165204485509529, 0.5143367791850585, 0.5121479131302277, 0.5101692425424612, 0.5081076131464909, 0.506293413187867, 0.5043205924313527, 0.5024074106953978, 0.5006978726623534, 0.4990879812142221, 0.49733028812279245, 0.4957750166413351, 0.4941903485350425, 0.49271776851686216, 0.4912111626046621, 0.4898029953397928, 0.4883810253734197, 0.4870942586776717, 0.4857632753074795, 0.4844749329715984, 0.4832189377035586, 0.4819908782381722, 0.48078443521856185, 0.47961392976518846, 0.4784961553156638, 0.47734429775628096, 0.4762803267975853, 0.47515779189778995, 0.4741843614887908, 0.47315231539818936, 0.47214263180092014, 0.47117632476876836, 0.47019800668483985, 0.4692713153656277, 0.4683370022924543, 0.4674438396441475, 0.466525681197117, 0.46566478050917226, 0.46476285476470847, 0.46390097251567386, 0.4631328447093229, 0.462300725442321, 0.46152366766252384, 0.4606808289124199, 0.4599785788922946, 0.4591609251690314, 0.45841521791569945, 0.45769452075966965, 0.4569439156611644, 0.4562154873751142, 0.4554905955101149, 0.45478245662071687, 0.45409147217453794, 0.45336992540502674, 0.4527617720211003, 0.45208459413332813, 0.4514230776653045, 0.4507432779869316]\n"
     ]
    }
   ],
   "source": [
    "proximal = lambda x: x\n",
    "_,eigs,_ = numpy.linalg.svd(numpy.dot(X_train,X_train.T))\n",
    "L = eigs[0]\n",
    "n,d = numpy.shape(X_train)\n",
    "alpha = 1E-6\n",
    "step_size = 1 / (2 * n * alpha + L)\n",
    "w, obj_vals = saga(X_train,y_train,step_size,100,proximal,linear_loss,linear_gradient,l2=True, l1=False,lam=alpha)"
   ]
  },
  {
   "cell_type": "code",
   "execution_count": 40,
   "metadata": {},
   "outputs": [
    {
     "data": {
      "image/png": "[encoded data removed]",
      "text/plain": [
       "<Figure size 432x288 with 1 Axes>"
      ]
     },
     "metadata": {
      "needs_background": "light"
     },
     "output_type": "display_data"
    }
   ],
   "source": [
    "import matplotlib.pyplot as plt\n",
    "\n",
    "epochs_gd = range(len(obj_vals))\n",
    "plt.plot(epochs_gd, obj_vals)\n",
    "plt.xlabel('Epochs', FontSize=20)\n",
    "plt.ylabel('Objective Value', FontSize=20)\n",
    "plt.show()"
   ]
  },
  {
   "cell_type": "markdown",
   "metadata": {},
   "source": [
    "### 4.3 CovType"
   ]
  },
  {
   "cell_type": "code",
   "execution_count": null,
   "metadata": {},
   "outputs": [],
   "source": []
  }
 ],
 "metadata": {
  "kernelspec": {
   "display_name": "Python 3",
   "language": "python",
   "name": "python3"
  },
  "language_info": {
   "codemirror_mode": {
    "name": "ipython",
    "version": 3
   },
   "file_extension": ".py",
   "mimetype": "text/x-python",
   "name": "python",
   "nbconvert_exporter": "python",
   "pygments_lexer": "ipython3",
   "version": "3.7.4"
  }
 },
 "nbformat": 4,
 "nbformat_minor": 2
}
